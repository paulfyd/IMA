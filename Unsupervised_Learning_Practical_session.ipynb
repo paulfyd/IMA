{
 "cells": [
  {
   "cell_type": "markdown",
   "metadata": {
    "colab_type": "text",
    "id": "PQtR1k0mCqqQ"
   },
   "source": [
    "# Unsupervised Learning - Practical session\n",
    "\n",
    "\n",
    "# 1. PCA\n",
    "\n",
    "1. It's not exactly that we need to center the data before computing a PCA, it's that we need to compute the covariance matrix $C$ of the data $X$. Well, this matrix is equal to $C = \\frac{1}{N-1} (X - \\bar X)^T(X- \\bar X) = \\frac{1}{N-1} X_c^T X_c$. Therefore, if $X$ is **centered**, then, the covariance matrix is exactly equal to $C= \\frac{1}{N-1} X^TX$.\n",
    "\n",
    "  Moreover, we need to center the data to use the **SVD** of $X$.\n",
    "\n",
    "2. As $U$ is an orthogonal matrix, $UU^T = I_n$. Then, $x_px_q^T = x_p (UU^T) x_q^T = (x_pU)(x_qU)^T = y_py_q^T$\n",
    "\n",
    "3. We know that $Y = XL$ where $L = U(:,1:k)$ with $k \\leq d$. But here, as $Y$ is a $[N,d]$ matrix, we have $k=d$ and $L = U$. Therefore, $Y = XU$ with $U$ an orthogonal matrix. We have also $X = YU^T$.\n",
    "\n",
    "  Let's suppose that $Y=X$. Then, $U=I_d$ and thus, there is only one eigenvalue of $C$: $1$.\n",
    "\n",
    "À FINIR\n",
    "\n",
    "4. Let's first prove that when $X$ is centered, then $Y$ is centered. $\\bar Y = \\bar{XU} =$ À FINIR\n",
    "\n",
    "$\\frac{1}{N-1} Y^TY = \\frac{1}{N-1} U^TX^TXU = U^T(\\frac{1}{N-1} X^TX)U = U^TCU = U^T (UDU^T)U = D$\n",
    "\n",
    "# 2. KPCA\n",
    "\n",
    "?\n",
    "\n",
    "# 3. ICA\n",
    "\n",
    "1. As $D = diag(d_1, d_2, ..., d_N)$ is a diagonal matrix, there exists $D^{\\frac{1}{2}} = diag(\\sqrt{d_1}, \\sqrt{d_2}, ..., \\sqrt{d_N})$ such that $D= D^{\\frac{1}{2}}D^{\\frac{1}{2}}$\n",
    "\n",
    "  Therefore, $\\Sigma = UDU^T = UD^{\\frac{1}{2}} D^{\\frac{1}{2}}U^T = UD^{\\frac{1}{2}}U^TUD^{\\frac{1}{2}}U^T = (UD^{\\frac{1}{2}}U^T)(UD^{\\frac{1}{2}}U^T) = \\Sigma^{\\frac{1}{2}} \\Sigma^{\\frac{1}{2}}$ with $\\Sigma^{\\frac{1}{2}} = UD^{\\frac{1}{2}}U^T$.\n",
    "\n",
    "  As $(UD^{\\frac{1}{2}}U^T)(UD^{-\\frac{1}{2}}U^T) = I_n$, we have $\\Sigma^{-\\frac{1}{2}} = UD^{-\\frac{1}{2}}U^T$.\n",
    "\n",
    "  Thus, $X_W = \\mathcal{W}X_c = \\Sigma^{-\\frac{1}{2}}X_c = UD^{-\\frac{1}{2}}U^TX_C$\n",
    "\n",
    "  I think that there is an error on the subject. Indeed, if $\\Sigma^{\\frac{1}{2}} = D^{\\frac{1}{2}}U^T$, then $\\Sigma^{\\frac{1}{2}}\\Sigma^{\\frac{1}{2}} = D^{\\frac{1}{2}}U^T D^{\\frac{1}{2}}U^T \\neq \\Sigma$.\n",
    "\n",
    "2. $\\Sigma_{X_W} = \\frac{1}{N-1}X_w^TX_w = \\frac{1}{N-1} X_c^T (\\Sigma^{-\\frac{1}{2}})^T \\Sigma^{-\\frac{1}{2}} X_c = \\frac{1}{N-1} X_c^T (\\Sigma^{-\\frac{1}{2}} \\Sigma^{\\frac{1}{2}}) X_c = \\frac{1}{N-1} X_c^T \\Sigma^{-1}  X_c =  X_c^T (X_c^TX_c)^{-1} X_c$ À FINIR\n",
    "\n",
    "3. $X_c =A_C S_C$\n",
    "\n",
    "  $X_W = A_W S_W = A_W W_W X_W$. D'où $A_W = W_W^{-1}$\n",
    "\n",
    "  But, $X_C = \\mathcal{W}^{-1}X_W = \\mathcal{W}^{-1} W_W^{-1}S_W $\n",
    "\n",
    "  A finir !\n",
    "\n",
    "# NNMF\n",
    "\n",
    "1. $min_x f(x)$ s.t. $x \\geq 0$. Let's $L$ be such that $L(x,\\lambda)= f(x) + \\lambda x$:\n",
    "\n",
    "  The KKT conditions give:\n",
    "\n",
    "  * $\\nabla f(x) + \\lambda = 0$ (1)\n",
    "\n",
    "  * $x\\geq 0$ (2)\n",
    "\n",
    "  * $\\lambda \\leq 0$ (3)\n",
    "\n",
    "  * $\\lambda x = 0$ (4)\n",
    "\n",
    "  According to (1) and (3), we have: $\\nabla f(x) = - \\lambda \\geq 0$ (5)\n",
    "\n",
    "  According to (1) and (4), we have: $\\nabla f(x) x = - \\lambda x = 0$ (6)\n",
    "\n",
    "  Therefore, for the NNMF problem, the KKT conditons are (2), (5) and (6).\n",
    "\n",
    "2. À faire"
   ]
  },
  {
   "cell_type": "code",
   "execution_count": null,
   "metadata": {},
   "outputs": [],
   "source": []
  }
 ],
 "metadata": {
  "colab": {
   "collapsed_sections": [],
   "name": "Unsupervised Learning - Practical session.ipynb",
   "provenance": []
  },
  "kernelspec": {
   "display_name": "Python 3",
   "language": "python",
   "name": "python3"
  },
  "language_info": {
   "codemirror_mode": {
    "name": "ipython",
    "version": 3
   },
   "file_extension": ".py",
   "mimetype": "text/x-python",
   "name": "python",
   "nbconvert_exporter": "python",
   "pygments_lexer": "ipython3",
   "version": "3.6.8"
  }
 },
 "nbformat": 4,
 "nbformat_minor": 1
}
